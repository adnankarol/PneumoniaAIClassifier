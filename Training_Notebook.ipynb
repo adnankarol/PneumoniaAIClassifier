{
  "nbformat": 4,
  "nbformat_minor": 0,
  "metadata": {
    "kernelspec": {
      "display_name": "Python 3",
      "language": "python",
      "name": "python3"
    },
    "language_info": {
      "codemirror_mode": {
        "name": "ipython",
        "version": 3
      },
      "file_extension": ".py",
      "mimetype": "text/x-python",
      "name": "python",
      "nbconvert_exporter": "python",
      "pygments_lexer": "ipython3",
      "version": "3.7.6"
    },
    "colab": {
      "name": "Training_Notebook.ipynb",
      "provenance": [],
      "collapsed_sections": []
    },
    "accelerator": "GPU"
  },
  "cells": [
    {
      "cell_type": "markdown",
      "metadata": {
        "id": "Wv8USbpafWdv"
      },
      "source": [
        "# A Notebook to Train a Classification Model for Pneumonia Detection"
      ]
    },
    {
      "cell_type": "markdown",
      "metadata": {
        "id": "cNZ8YI-wfWdz"
      },
      "source": [
        "## Import Dependencies"
      ]
    },
    {
      "cell_type": "code",
      "metadata": {
        "id": "SKnQDlz7fWd0"
      },
      "source": [
        "import os\n",
        "import yaml\n",
        "from numpy import array\n",
        "import numpy as np\n",
        "import tensorflow as tf\n",
        "import pandas as pd\n",
        "import matplotlib.pyplot as plt\n",
        "\n",
        "from matplotlib import pyplot\n",
        "from matplotlib.image import imread\n",
        "\n",
        "from tensorflow.keras.models import Model,Sequential\n",
        "from tensorflow.keras.layers import Dropout,Dense,BatchNormalization, Conv2D, MaxPooling2D, Activation, Flatten, SpatialDropout2D\n",
        "from tensorflow.keras.optimizers import Adam as adam\n",
        "from sklearn.model_selection import train_test_split\n",
        "\n",
        "from tensorflow.keras.preprocessing.image import load_img\n",
        "from tensorflow.keras.preprocessing.image import load_img, img_to_array\n",
        "from tensorflow.keras.models import load_model \n",
        "\n",
        "from sklearn.metrics import classification_report, confusion_matrix\n",
        "from keras.callbacks import EarlyStopping"
      ],
      "execution_count": 1,
      "outputs": []
    },
    {
      "cell_type": "markdown",
      "metadata": {
        "id": "I3esQy_3fWd1"
      },
      "source": [
        "## Load the Data"
      ]
    },
    {
      "cell_type": "code",
      "metadata": {
        "colab": {
          "base_uri": "https://localhost:8080/"
        },
        "id": "y_IrIrxifer7",
        "outputId": "d9e4519c-10c7-4743-ae74-05761780f1c1"
      },
      "source": [
        "from google.colab import drive\n",
        "drive.mount('/gdrive')\n",
        "%cd /gdrive/MyDrive/Pneumonia/"
      ],
      "execution_count": 2,
      "outputs": [
        {
          "output_type": "stream",
          "text": [
            "Drive already mounted at /gdrive; to attempt to forcibly remount, call drive.mount(\"/gdrive\", force_remount=True).\n",
            "/gdrive/MyDrive/Pneumonia\n"
          ],
          "name": "stdout"
        }
      ]
    },
    {
      "cell_type": "markdown",
      "metadata": {
        "id": "fZvovMgBfWd4"
      },
      "source": [
        "## Structurize Data for Model"
      ]
    },
    {
      "cell_type": "code",
      "metadata": {
        "colab": {
          "base_uri": "https://localhost:8080/",
          "height": 36
        },
        "id": "uWr9KlBpfWd4",
        "outputId": "170c915f-786c-439e-998e-337eb05077e3"
      },
      "source": [
        "\"\"\"\n",
        " Perform Data Augmentation: shearing, rotation, zooming, flipping etc.\n",
        " Make height and width dimensions of 300.\n",
        " \n",
        "\"\"\""
      ],
      "execution_count": 3,
      "outputs": [
        {
          "output_type": "execute_result",
          "data": {
            "application/vnd.google.colaboratory.intrinsic+json": {
              "type": "string"
            },
            "text/plain": [
              "'\\n Perform Data Augmentation: shearing, rotation, zooming, flipping etc.\\n Make height and width dimensions of 300.\\n \\n'"
            ]
          },
          "metadata": {
            "tags": []
          },
          "execution_count": 3
        }
      ]
    },
    {
      "cell_type": "code",
      "metadata": {
        "colab": {
          "base_uri": "https://localhost:8080/"
        },
        "id": "cPnGT027fWd4",
        "outputId": "7bae534d-266a-4f6a-cdbb-dde09bf74153"
      },
      "source": [
        "batch_size = 16\n",
        "\n",
        "# Training Augmentation configuration\n",
        "from tensorflow.keras.preprocessing.image import ImageDataGenerator\n",
        "\n",
        "train_datagen = ImageDataGenerator(rescale = 1./255, \n",
        "                                   shear_range = 0.2,\n",
        "                                   zoom_range = 0.2,\n",
        "                                   horizontal_flip = True)\n",
        "\n",
        "# Validation Augmentation - Only Rescaling\n",
        "val_datagen = ImageDataGenerator(rescale = 1./255)\n",
        "\n",
        "# Generates batches of Augmented Image data\n",
        "train_generator = train_datagen.flow_from_directory('Data/chest_xray/train/', target_size = (128, 128), \n",
        "                                                    batch_size = batch_size,\n",
        "                                                    class_mode = 'binary') \n",
        "\n",
        "# Generator for validation data\n",
        "validation_generator = val_datagen.flow_from_directory('Data/chest_xray/test/', \n",
        "                                                        target_size = (128, 128),\n",
        "                                                        batch_size = batch_size,\n",
        "                                                        class_mode = 'binary')"
      ],
      "execution_count": 4,
      "outputs": [
        {
          "output_type": "stream",
          "text": [
            "Found 5216 images belonging to 2 classes.\n",
            "Found 624 images belonging to 2 classes.\n"
          ],
          "name": "stdout"
        }
      ]
    },
    {
      "cell_type": "markdown",
      "metadata": {
        "id": "gRlt7pKtfWd5"
      },
      "source": [
        "## Build the Model"
      ]
    },
    {
      "cell_type": "code",
      "metadata": {
        "colab": {
          "base_uri": "https://localhost:8080/"
        },
        "id": "0qgdqFtntLju",
        "outputId": "dbfc2f4a-74f4-43d9-ab64-4ff5240d6ee8"
      },
      "source": [
        "model=Sequential()\n",
        "\n",
        "model.add(Conv2D(32,(3,3),padding='same',activation='relu',input_shape=(128,128,3)))\n",
        "model.add(MaxPooling2D(2,2))\n",
        "model.add(SpatialDropout2D(0.1))\n",
        "\n",
        "model.add(Conv2D(32,(3,3),padding='same',activation='relu'))\n",
        "model.add(MaxPooling2D(2,2))\n",
        "model.add(BatchNormalization())\n",
        "model.add(SpatialDropout2D(0.2))\n",
        "\n",
        "model.add(Conv2D(32,(3,3),padding='same',activation='relu'))\n",
        "model.add(MaxPooling2D(2,2))\n",
        "model.add(BatchNormalization())\n",
        "model.add(SpatialDropout2D(0.2))\n",
        "\n",
        "model.add(Conv2D(32,(3,3),padding='same',activation='relu'))\n",
        "model.add(MaxPooling2D(2,2))\n",
        "model.add(BatchNormalization())\n",
        "model.add(SpatialDropout2D(0.3))\n",
        "\n",
        "model.add(Conv2D(32,(3,3),padding='same',activation='relu'))\n",
        "model.add(MaxPooling2D(2,2))\n",
        "model.add(BatchNormalization())\n",
        "model.add(SpatialDropout2D(0.3))\n",
        "\n",
        "model.add(Conv2D(32,(3,3),padding='same',activation='relu'))\n",
        "model.add(MaxPooling2D(2,2))\n",
        "model.add(BatchNormalization())\n",
        "model.add(SpatialDropout2D(0.3))\n",
        "\n",
        "model.add(Conv2D(32,(3,3),padding='same',activation='relu'))\n",
        "model.add(MaxPooling2D(2,2))\n",
        "model.add(BatchNormalization())\n",
        "model.add(SpatialDropout2D(0.5))\n",
        "\n",
        "model.add(Flatten())\n",
        "model.add(Dropout(0.5))\n",
        "model.add(Dense(128,activation='relu'))\n",
        "model.add(Dropout(0.5))\n",
        "model.add(Dense(128,activation='relu'))\n",
        "model.add(Dropout(0.5))\n",
        "model.add(Dense(1,activation='sigmoid'))\n",
        "\n",
        "model.compile(optimizer=\"adam\",loss='binary_crossentropy',metrics=['accuracy'])\n",
        "\n",
        "model.summary()"
      ],
      "execution_count": 5,
      "outputs": [
        {
          "output_type": "stream",
          "text": [
            "Model: \"sequential\"\n",
            "_________________________________________________________________\n",
            "Layer (type)                 Output Shape              Param #   \n",
            "=================================================================\n",
            "conv2d (Conv2D)              (None, 128, 128, 32)      896       \n",
            "_________________________________________________________________\n",
            "max_pooling2d (MaxPooling2D) (None, 64, 64, 32)        0         \n",
            "_________________________________________________________________\n",
            "spatial_dropout2d (SpatialDr (None, 64, 64, 32)        0         \n",
            "_________________________________________________________________\n",
            "conv2d_1 (Conv2D)            (None, 64, 64, 32)        9248      \n",
            "_________________________________________________________________\n",
            "max_pooling2d_1 (MaxPooling2 (None, 32, 32, 32)        0         \n",
            "_________________________________________________________________\n",
            "batch_normalization (BatchNo (None, 32, 32, 32)        128       \n",
            "_________________________________________________________________\n",
            "spatial_dropout2d_1 (Spatial (None, 32, 32, 32)        0         \n",
            "_________________________________________________________________\n",
            "conv2d_2 (Conv2D)            (None, 32, 32, 32)        9248      \n",
            "_________________________________________________________________\n",
            "max_pooling2d_2 (MaxPooling2 (None, 16, 16, 32)        0         \n",
            "_________________________________________________________________\n",
            "batch_normalization_1 (Batch (None, 16, 16, 32)        128       \n",
            "_________________________________________________________________\n",
            "spatial_dropout2d_2 (Spatial (None, 16, 16, 32)        0         \n",
            "_________________________________________________________________\n",
            "conv2d_3 (Conv2D)            (None, 16, 16, 32)        9248      \n",
            "_________________________________________________________________\n",
            "max_pooling2d_3 (MaxPooling2 (None, 8, 8, 32)          0         \n",
            "_________________________________________________________________\n",
            "batch_normalization_2 (Batch (None, 8, 8, 32)          128       \n",
            "_________________________________________________________________\n",
            "spatial_dropout2d_3 (Spatial (None, 8, 8, 32)          0         \n",
            "_________________________________________________________________\n",
            "conv2d_4 (Conv2D)            (None, 8, 8, 32)          9248      \n",
            "_________________________________________________________________\n",
            "max_pooling2d_4 (MaxPooling2 (None, 4, 4, 32)          0         \n",
            "_________________________________________________________________\n",
            "batch_normalization_3 (Batch (None, 4, 4, 32)          128       \n",
            "_________________________________________________________________\n",
            "spatial_dropout2d_4 (Spatial (None, 4, 4, 32)          0         \n",
            "_________________________________________________________________\n",
            "conv2d_5 (Conv2D)            (None, 4, 4, 32)          9248      \n",
            "_________________________________________________________________\n",
            "max_pooling2d_5 (MaxPooling2 (None, 2, 2, 32)          0         \n",
            "_________________________________________________________________\n",
            "batch_normalization_4 (Batch (None, 2, 2, 32)          128       \n",
            "_________________________________________________________________\n",
            "spatial_dropout2d_5 (Spatial (None, 2, 2, 32)          0         \n",
            "_________________________________________________________________\n",
            "conv2d_6 (Conv2D)            (None, 2, 2, 32)          9248      \n",
            "_________________________________________________________________\n",
            "max_pooling2d_6 (MaxPooling2 (None, 1, 1, 32)          0         \n",
            "_________________________________________________________________\n",
            "batch_normalization_5 (Batch (None, 1, 1, 32)          128       \n",
            "_________________________________________________________________\n",
            "spatial_dropout2d_6 (Spatial (None, 1, 1, 32)          0         \n",
            "_________________________________________________________________\n",
            "flatten (Flatten)            (None, 32)                0         \n",
            "_________________________________________________________________\n",
            "dropout (Dropout)            (None, 32)                0         \n",
            "_________________________________________________________________\n",
            "dense (Dense)                (None, 128)               4224      \n",
            "_________________________________________________________________\n",
            "dropout_1 (Dropout)          (None, 128)               0         \n",
            "_________________________________________________________________\n",
            "dense_1 (Dense)              (None, 128)               16512     \n",
            "_________________________________________________________________\n",
            "dropout_2 (Dropout)          (None, 128)               0         \n",
            "_________________________________________________________________\n",
            "dense_2 (Dense)              (None, 1)                 129       \n",
            "=================================================================\n",
            "Total params: 78,017\n",
            "Trainable params: 77,633\n",
            "Non-trainable params: 384\n",
            "_________________________________________________________________\n"
          ],
          "name": "stdout"
        }
      ]
    },
    {
      "cell_type": "markdown",
      "metadata": {
        "id": "M50RYj1ffWd6"
      },
      "source": [
        "## Train the Model"
      ]
    },
    {
      "cell_type": "code",
      "metadata": {
        "colab": {
          "base_uri": "https://localhost:8080/"
        },
        "id": "7YEK_yOHfWd6",
        "outputId": "64080b3f-b62f-4a00-b7a8-7a111ba0d5ff"
      },
      "source": [
        "# Implement Patient early stopping\n",
        "es = EarlyStopping(monitor='val_loss', mode='min', verbose=1, patience=5)\n",
        "\n",
        "# Train the Model\n",
        "history = model.fit(train_generator,\n",
        "                    epochs = 120,\n",
        "                    steps_per_epoch=326,\n",
        "                    validation_data = validation_generator,\n",
        "                    verbose = 1,\n",
        "                    callbacks=[es])\n",
        "\n",
        "loss, accuracy = model.evaluate(validation_generator)\n",
        "\n",
        "print(\"\\nModel's Evaluation Metrics: \")\n",
        "print(\"---------------------------\")\n",
        "print(\"Accuracy: {} \\nLoss: {}\".format(accuracy, loss))"
      ],
      "execution_count": 6,
      "outputs": [
        {
          "output_type": "stream",
          "text": [
            "Epoch 1/120\n",
            "326/326 [==============================] - 196s 595ms/step - loss: 0.6706 - accuracy: 0.6984 - val_loss: 0.6630 - val_accuracy: 0.6250\n",
            "Epoch 2/120\n",
            "326/326 [==============================] - 193s 592ms/step - loss: 0.5913 - accuracy: 0.7301 - val_loss: 0.6359 - val_accuracy: 0.6250\n",
            "Epoch 3/120\n",
            "326/326 [==============================] - 193s 592ms/step - loss: 0.5725 - accuracy: 0.7387 - val_loss: 0.6359 - val_accuracy: 0.6250\n",
            "Epoch 4/120\n",
            "326/326 [==============================] - 193s 592ms/step - loss: 0.5413 - accuracy: 0.7421 - val_loss: 0.5750 - val_accuracy: 0.6250\n",
            "Epoch 5/120\n",
            "326/326 [==============================] - 193s 592ms/step - loss: 0.4857 - accuracy: 0.7596 - val_loss: 0.4398 - val_accuracy: 0.8189\n",
            "Epoch 6/120\n",
            "326/326 [==============================] - 193s 591ms/step - loss: 0.4331 - accuracy: 0.7958 - val_loss: 0.4681 - val_accuracy: 0.8397\n",
            "Epoch 7/120\n",
            "326/326 [==============================] - 193s 590ms/step - loss: 0.3541 - accuracy: 0.8336 - val_loss: 0.3926 - val_accuracy: 0.8702\n",
            "Epoch 8/120\n",
            "326/326 [==============================] - 192s 589ms/step - loss: 0.3523 - accuracy: 0.8493 - val_loss: 0.3862 - val_accuracy: 0.8798\n",
            "Epoch 9/120\n",
            "326/326 [==============================] - 193s 591ms/step - loss: 0.3128 - accuracy: 0.8673 - val_loss: 0.3610 - val_accuracy: 0.8830\n",
            "Epoch 10/120\n",
            "326/326 [==============================] - 193s 591ms/step - loss: 0.2887 - accuracy: 0.8869 - val_loss: 0.3368 - val_accuracy: 0.9054\n",
            "Epoch 11/120\n",
            "326/326 [==============================] - 192s 590ms/step - loss: 0.2664 - accuracy: 0.8949 - val_loss: 0.3689 - val_accuracy: 0.8942\n",
            "Epoch 12/120\n",
            "326/326 [==============================] - 193s 590ms/step - loss: 0.2755 - accuracy: 0.8909 - val_loss: 0.3272 - val_accuracy: 0.8830\n",
            "Epoch 13/120\n",
            "326/326 [==============================] - 193s 590ms/step - loss: 0.2564 - accuracy: 0.9028 - val_loss: 0.3652 - val_accuracy: 0.8910\n",
            "Epoch 14/120\n",
            "326/326 [==============================] - 193s 592ms/step - loss: 0.2470 - accuracy: 0.9078 - val_loss: 0.3398 - val_accuracy: 0.9038\n",
            "Epoch 15/120\n",
            "326/326 [==============================] - 193s 591ms/step - loss: 0.2313 - accuracy: 0.9132 - val_loss: 0.3438 - val_accuracy: 0.9022\n",
            "Epoch 16/120\n",
            "326/326 [==============================] - 193s 591ms/step - loss: 0.2398 - accuracy: 0.9172 - val_loss: 0.2917 - val_accuracy: 0.9071\n",
            "Epoch 17/120\n",
            "326/326 [==============================] - 193s 590ms/step - loss: 0.2249 - accuracy: 0.9162 - val_loss: 0.5031 - val_accuracy: 0.8333\n",
            "Epoch 18/120\n",
            "326/326 [==============================] - 193s 591ms/step - loss: 0.2255 - accuracy: 0.9089 - val_loss: 0.3425 - val_accuracy: 0.9119\n",
            "Epoch 19/120\n",
            "326/326 [==============================] - 193s 592ms/step - loss: 0.2205 - accuracy: 0.9193 - val_loss: 0.3717 - val_accuracy: 0.9071\n",
            "Epoch 20/120\n",
            "326/326 [==============================] - 193s 592ms/step - loss: 0.2206 - accuracy: 0.9183 - val_loss: 0.3636 - val_accuracy: 0.9135\n",
            "Epoch 21/120\n",
            "326/326 [==============================] - 194s 593ms/step - loss: 0.2072 - accuracy: 0.9264 - val_loss: 0.4137 - val_accuracy: 0.9054\n",
            "Epoch 00021: early stopping\n",
            "39/39 [==============================] - 10s 259ms/step - loss: 0.4137 - accuracy: 0.9054\n",
            "\n",
            "Model's Evaluation Metrics: \n",
            "---------------------------\n",
            "Accuracy: 0.9054487347602844 \n",
            "Loss: 0.4137202501296997\n"
          ],
          "name": "stdout"
        }
      ]
    },
    {
      "cell_type": "markdown",
      "metadata": {
        "id": "hsiF94fkfWd6"
      },
      "source": [
        "## Plot the Training Graphs"
      ]
    },
    {
      "cell_type": "code",
      "metadata": {
        "colab": {
          "base_uri": "https://localhost:8080/",
          "height": 573
        },
        "id": "Peru-2U4fWd7",
        "outputId": "66d8f595-0de0-42fa-8e79-59c5276c116b"
      },
      "source": [
        "'''\n",
        "method: plot_training\n",
        "input_parameters: history\n",
        "output_parameters: none\n",
        "description: This method plots the training and validation performance over the epochs.\n",
        "'''\n",
        "\n",
        "\n",
        "def plot_training(history):\n",
        "    # Accuracy\n",
        "    plt.plot(history.history['accuracy'])\n",
        "    plt.plot(history.history['val_accuracy'])\n",
        "    plt.title('model accuracy')\n",
        "    plt.ylabel('accuracy')\n",
        "    plt.xlabel('epoch')\n",
        "    plt.legend(['train', 'test'], loc='upper left')\n",
        "    plt.show()\n",
        "    # Loss\n",
        "    plt.plot(history.history['loss'])\n",
        "    plt.plot(history.history['val_loss'])\n",
        "    plt.title('model loss')\n",
        "    plt.ylabel('loss')\n",
        "    plt.xlabel('epoch')\n",
        "    plt.legend(['train', 'test'], loc='upper left')\n",
        "    plt.show()\n",
        "\n",
        "plot_training(history)"
      ],
      "execution_count": 7,
      "outputs": [
        {
          "output_type": "display_data",
          "data": {
            "image/png": "[encoded data removed]",
            "text/plain": [
              "<Figure size 432x288 with 1 Axes>"
            ]
          },
          "metadata": {
            "tags": [],
            "needs_background": "light"
          }
        },
        {
          "output_type": "display_data",
          "data": {
            "image/png": "[encoded data removed]",
            "text/plain": [
              "<Figure size 432x288 with 1 Axes>"
            ]
          },
          "metadata": {
            "tags": [],
            "needs_background": "light"
          }
        }
      ]
    },
    {
      "cell_type": "markdown",
      "metadata": {
        "id": "oFH_XT_gfWd7"
      },
      "source": [
        "## Save the Model"
      ]
    },
    {
      "cell_type": "code",
      "metadata": {
        "id": "lMeKmFIpfWd7"
      },
      "source": [
        "model.save(\"disease_classifier.h5\")"
      ],
      "execution_count": 8,
      "outputs": []
    },
    {
      "cell_type": "markdown",
      "metadata": {
        "id": "D56fDORFfWd8"
      },
      "source": [
        "## Test The Model"
      ]
    },
    {
      "cell_type": "code",
      "metadata": {
        "colab": {
          "base_uri": "https://localhost:8080/"
        },
        "id": "PmnLd4EFfWd8",
        "outputId": "b4ad8e00-7171-48d9-ba65-efd4e72d11a5"
      },
      "source": [
        "def load_image(filename):\n",
        "    img = load_img(filename, target_size=(128, 128))\n",
        "    img = img_to_array(img) \n",
        "    img = np.expand_dims(img, axis=0)\n",
        "    return img\n",
        " \n",
        "img = load_image('Data/chest_xray/val/NORMAL/NORMAL2-IM-1440-0001.jpeg')\n",
        "model = tf.keras.models.load_model('disease_classifier.h5')\n",
        "result = model.predict(img)\n",
        "result = np.argmax(result[0])\n",
        "result"
      ],
      "execution_count": 9,
      "outputs": [
        {
          "output_type": "execute_result",
          "data": {
            "text/plain": [
              "0"
            ]
          },
          "metadata": {
            "tags": []
          },
          "execution_count": 9
        }
      ]
    },
    {
      "cell_type": "code",
      "metadata": {
        "colab": {
          "base_uri": "https://localhost:8080/"
        },
        "id": "gP4CuMzIfWd8",
        "outputId": "1c68a162-f674-4c37-a4a1-721039794f2e"
      },
      "source": [
        "def load_image(filename):\n",
        "    img = load_img(filename, target_size=(128, 128))\n",
        "    img = img_to_array(img) \n",
        "    img = np.expand_dims(img, axis=0)\n",
        "    return img\n",
        " \n",
        "img = load_image('Data/chest_xray/val/PNEUMONIA/person1951_bacteria_4882.jpeg')\n",
        "model = tf.keras.models.load_model('disease_classifier.h5')\n",
        "result = model.predict(img)\n",
        "result = np.argmax(result[0])\n",
        "result"
      ],
      "execution_count": 10,
      "outputs": [
        {
          "output_type": "execute_result",
          "data": {
            "text/plain": [
              "0"
            ]
          },
          "metadata": {
            "tags": []
          },
          "execution_count": 10
        }
      ]
    },
    {
      "cell_type": "code",
      "metadata": {
        "colab": {
          "base_uri": "https://localhost:8080/"
        },
        "id": "CUeimtwaSqkM",
        "outputId": "84918d7c-96be-4490-c9b8-2c354ed0c6da"
      },
      "source": [
        "#Confution Matrix and Classification Report\n",
        "\n",
        "Y_pred = model.predict_generator(validation_generator)\n",
        "Y_pred = Y_pred.flatten()\n",
        "y_pred = []\n",
        "for i in Y_pred:\n",
        "  if i < 0.5:\n",
        "    y_pred.append(0)\n",
        "  else:\n",
        "    y_pred.append(1)\n",
        "\n",
        "print('Confusion Matrix')\n",
        "print(confusion_matrix(validation_generator.classes, y_pred))\n",
        "\n",
        "print('Classification Report')\n",
        "target_names = ['Normal', 'Pneunomonia']\n",
        "print(classification_report(validation_generator.classes, y_pred, target_names=target_names))"
      ],
      "execution_count": 11,
      "outputs": [
        {
          "output_type": "stream",
          "text": [
            "/usr/local/lib/python3.7/dist-packages/tensorflow/python/keras/engine/training.py:2001: UserWarning: `Model.predict_generator` is deprecated and will be removed in a future version. Please use `Model.predict`, which supports generators.\n",
            "  warnings.warn('`Model.predict_generator` is deprecated and '\n"
          ],
          "name": "stderr"
        },
        {
          "output_type": "stream",
          "text": [
            "Confusion Matrix\n",
            "[[ 74 160]\n",
            " [133 257]]\n",
            "Classification Report\n",
            "              precision    recall  f1-score   support\n",
            "\n",
            "      Normal       0.36      0.32      0.34       234\n",
            " Pneunomonia       0.62      0.66      0.64       390\n",
            "\n",
            "    accuracy                           0.53       624\n",
            "   macro avg       0.49      0.49      0.49       624\n",
            "weighted avg       0.52      0.53      0.52       624\n",
            "\n"
          ],
          "name": "stdout"
        }
      ]
    },
    {
      "cell_type": "code",
      "metadata": {
        "id": "T7x1O3ndkmZI"
      },
      "source": [
        ""
      ],
      "execution_count": 11,
      "outputs": []
    }
  ]
}